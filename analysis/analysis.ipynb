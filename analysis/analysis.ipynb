{
 "cells": [
  {
   "cell_type": "code",
   "execution_count": 1,
   "metadata": {},
   "outputs": [],
   "source": [
    "import json\n",
    "from dotenv import load_dotenv\n",
    "import os\n",
    "import time\n",
    "from tqdm import tqdm\n",
    "import random\n",
    "\n",
    "import pymongo\n",
    "from bson import ObjectId\n",
    "import matplotlib.pyplot as plt\n",
    "\n",
    "import consts\n",
    "from schema import Character, Run, RunSummary\n",
    "\n",
    "from rio_requests import character_run_summaries, get_run_from_id"
   ]
  },
  {
   "cell_type": "code",
   "execution_count": 2,
   "metadata": {},
   "outputs": [],
   "source": [
    "database_runs = open('data/raideriknow.runs.json', 'r')\n",
    "database_runs = json.load(database_runs)\n",
    "database_runs = [Run.from_json(run) for run in database_runs]\n",
    "database_run_ids = { run.keystone_run_id: run for run in database_runs }\n",
    "\n",
    "database_characters = open('data/raideriknow.characters.json', 'r')\n",
    "database_characters = json.load(database_characters)\n",
    "database_characters = [Character.from_json(character) for character in database_characters]\n",
    "database_characters = sorted(database_characters, key=lambda character: character.name)\n",
    "database_character_ids = { character.id: character for character in database_characters }\n",
    "database_character_oids = { character._id: character for character in database_characters }"
   ]
  },
  {
   "cell_type": "code",
   "execution_count": 3,
   "metadata": {},
   "outputs": [
    {
     "name": "stdout",
     "output_type": "stream",
     "text": [
      "77915\n",
      "232433\n"
     ]
    }
   ],
   "source": [
    "print(len(database_characters))\n",
    "print(len(database_runs))"
   ]
  },
  {
   "cell_type": "code",
   "execution_count": 4,
   "metadata": {},
   "outputs": [
    {
     "name": "stdout",
     "output_type": "stream",
     "text": [
      "55981\n",
      "178274\n"
     ]
    }
   ],
   "source": [
    "def sample_runs(n) :\n",
    "    return random.sample(database_runs, n)\n",
    "\n",
    "def sample_characters(n) :\n",
    "    return random.sample(database_characters, n)\n",
    "\n",
    "def sample_database_runs_above_limit() :\n",
    "    return [run for run in database_runs if run.mythic_level >= consts.MYTHIC_RUN_LEVEL_LIMIT]\n",
    "\n",
    "def sample_database_characters_above_limit() :\n",
    "    runs_above_limit = sample_database_runs_above_limit()\n",
    "    character_oids = set()\n",
    "    for run in runs_above_limit :\n",
    "        roster = run.roster\n",
    "        for char_oid in roster :\n",
    "            character_oids.add(str(char_oid))\n",
    "    \n",
    "    return [database_character_oids[oid] for oid in character_oids]\n",
    "\n",
    "database_runs_above_limit = sample_database_runs_above_limit()\n",
    "database_characters_above_limit = sample_database_characters_above_limit()\n",
    "print(len(database_characters_above_limit))\n",
    "print(len(database_runs_above_limit))\n"
   ]
  },
  {
   "cell_type": "code",
   "execution_count": 5,
   "metadata": {},
   "outputs": [
    {
     "name": "stderr",
     "output_type": "stream",
     "text": [
      "100%|██████████| 232433/232433 [00:00<00:00, 436029.63it/s]\n",
      "100%|██████████| 178274/178274 [00:00<00:00, 1030276.25it/s]\n"
     ]
    }
   ],
   "source": [
    "\"\"\"\n",
    "rough calculation\n",
    "250,000 runs\n",
    "each run has 5 characters\n",
    "1,250,000 character-run operations\n",
    "\"\"\"\n",
    "def precompute_runs_per_character(d_runs) :\n",
    "    runs_per_character = {}\n",
    "    for run in tqdm(d_runs) :\n",
    "        for character_oid in run.roster :\n",
    "            character_id = str(character_oid)\n",
    "            if character_id not in runs_per_character :\n",
    "                runs_per_character[character_id] = []\n",
    "            runs_per_character[character_id].append(run)\n",
    "\n",
    "    return runs_per_character\n",
    "\n",
    "runs_per_char = precompute_runs_per_character(database_runs)\n",
    "runs_per_char_above_limit = precompute_runs_per_character(database_runs_above_limit)"
   ]
  },
  {
   "cell_type": "code",
   "execution_count": 6,
   "metadata": {},
   "outputs": [],
   "source": [
    "def get_runs_with_character(character) :\n",
    "    return runs_per_char[str(character._id)] if str(character._id) in runs_per_char else []\n",
    "\n",
    "def get_runs_with_characters(characters) :\n",
    "    runs = []\n",
    "    for character in characters :\n",
    "        runs += get_runs_with_character(character)\n",
    "    return runs"
   ]
  },
  {
   "cell_type": "code",
   "execution_count": 7,
   "metadata": {},
   "outputs": [
    {
     "name": "stdout",
     "output_type": "stream",
     "text": [
      "Example character: Aackcamiwema (204603169)\n",
      "Number of runs: 31\n",
      "Example run: {'keystone_run_id': 22031134, 'completed_at': {'$date': '2024-01-25T02:00:34.000Z'}, 'dungeon': {'id': 9028, 'name': \"Atal'Dazar\"}, 'keystone_team_id': 266158471, 'mythic_level': 26, 'roster': [ObjectId('65e1303de63558d7ed4d0a3d'), ObjectId('65e13047e63558d7ed4d2c78'), ObjectId('65e1303de63558d7ed4d0aa0'), ObjectId('65e13047e63558d7ed4d2cf6'), ObjectId('65e1301de63558d7ed4ca7bf')], 'season': 'season-df-3', 'weekly_modifiers': ['Fortified', 'Incorporeal', 'Sanguine']}\n"
     ]
    }
   ],
   "source": [
    "example_character = database_characters[0]\n",
    "example_runs = get_runs_with_character(example_character)\n",
    "print(f'Example character: {example_character.name} ({example_character.id})')\n",
    "print(f'Number of runs: {len(example_runs)}')\n",
    "print(f'Example run: {example_runs[0].to_json()}')"
   ]
  },
  {
   "cell_type": "code",
   "execution_count": 8,
   "metadata": {},
   "outputs": [
    {
     "name": "stderr",
     "output_type": "stream",
     "text": [
      "100%|██████████| 77915/77915 [00:00<00:00, 1449066.16it/s]\n"
     ]
    },
    {
     "name": "stdout",
     "output_type": "stream",
     "text": [
      "Average number of runs per character: 14.989436210966218\n"
     ]
    },
    {
     "name": "stderr",
     "output_type": "stream",
     "text": [
      "100%|██████████| 55981/55981 [00:00<00:00, 1662934.28it/s]"
     ]
    },
    {
     "name": "stdout",
     "output_type": "stream",
     "text": [
      "Average number of runs per character above limit: 20.048230649684715\n"
     ]
    },
    {
     "name": "stderr",
     "output_type": "stream",
     "text": [
      "\n"
     ]
    }
   ],
   "source": [
    "def avg_runs_per_character(d_chars):\n",
    "    avg_runs = 0\n",
    "    no_run_characters = []\n",
    "    for character in tqdm(d_chars):\n",
    "        runs = get_runs_with_character(character)\n",
    "        if len(runs) == 0:\n",
    "            no_run_characters.append(character)\n",
    "            continue\n",
    "\n",
    "        avg_runs += len(runs)\n",
    "\n",
    "    avg_runs /= (len(d_chars) - len(no_run_characters))\n",
    "    # print(f'Number of characters with no runs: {len(no_run_characters)}')\n",
    "\n",
    "    return avg_runs\n",
    "\n",
    "avg_runs = avg_runs_per_character(database_characters)\n",
    "print(f'Average number of runs per character: {avg_runs}')\n",
    "avg_runs_above_limit = avg_runs_per_character(database_characters_above_limit)\n",
    "print(f'Average number of runs per character above limit: {avg_runs_above_limit}')\n"
   ]
  },
  {
   "cell_type": "code",
   "execution_count": 9,
   "metadata": {},
   "outputs": [
    {
     "name": "stderr",
     "output_type": "stream",
     "text": [
      "100%|██████████| 232433/232433 [00:00<00:00, 10977801.74it/s]\n"
     ]
    },
    {
     "name": "stdout",
     "output_type": "stream",
     "text": [
      "Average keystone level: 25.478318483175798\n"
     ]
    },
    {
     "name": "stderr",
     "output_type": "stream",
     "text": [
      "100%|██████████| 178274/178274 [00:00<00:00, 10757698.52it/s]"
     ]
    },
    {
     "name": "stdout",
     "output_type": "stream",
     "text": [
      "Average keystone level: 26.046961418939386\n"
     ]
    },
    {
     "name": "stderr",
     "output_type": "stream",
     "text": [
      "\n"
     ]
    }
   ],
   "source": [
    "def avg_keystone_level(d_runs):\n",
    "    avg_level = 0\n",
    "    for run in tqdm(d_runs):\n",
    "        avg_level += run.mythic_level\n",
    "\n",
    "    avg_level /= len(d_runs)\n",
    "    print(f'Average keystone level: {avg_level}')\n",
    "\n",
    "avg_keystone_level(database_runs)\n",
    "avg_keystone_level(database_runs_above_limit)"
   ]
  },
  {
   "cell_type": "code",
   "execution_count": 10,
   "metadata": {},
   "outputs": [
    {
     "name": "stderr",
     "output_type": "stream",
     "text": [
      "100%|██████████| 232433/232433 [00:00<00:00, 7860976.01it/s]\n",
      "100%|██████████| 178274/178274 [00:00<00:00, 8209744.85it/s]\n"
     ]
    },
    {
     "data": {
      "image/png": "[encoded data removed]",
      "text/plain": [
       "<Figure size 640x480 with 1 Axes>"
      ]
     },
     "metadata": {},
     "output_type": "display_data"
    },
    {
     "data": {
      "image/png": "[encoded data removed]",
      "text/plain": [
       "<Figure size 640x480 with 1 Axes>"
      ]
     },
     "metadata": {},
     "output_type": "display_data"
    }
   ],
   "source": [
    "def runs_per_keystone_level(d_runs):\n",
    "    levels = {}\n",
    "    for run in tqdm(d_runs):\n",
    "        level = run.mythic_level\n",
    "        if level not in levels:\n",
    "            levels[level] = 0\n",
    "        levels[level] += 1\n",
    "\n",
    "    return levels\n",
    "\n",
    "levels = runs_per_keystone_level(database_runs)\n",
    "levels_above_limit = runs_per_keystone_level(database_runs_above_limit)\n",
    "\n",
    "def plot_levels(levels, title):\n",
    "    plt.bar(levels.keys(), levels.values())\n",
    "    plt.title(title)\n",
    "    plt.xlabel('Keystone Level')\n",
    "    plt.ylabel('Number of Runs')\n",
    "    plt.show()\n",
    "\n",
    "plot_levels(levels, 'Keystone Levels')\n",
    "plot_levels(levels_above_limit, 'Keystone Levels Above Limit')"
   ]
  },
  {
   "cell_type": "code",
   "execution_count": null,
   "metadata": {},
   "outputs": [],
   "source": []
  }
 ],
 "metadata": {
  "kernelspec": {
   "display_name": "env",
   "language": "python",
   "name": "python3"
  },
  "language_info": {
   "codemirror_mode": {
    "name": "ipython",
    "version": 3
   },
   "file_extension": ".py",
   "mimetype": "text/x-python",
   "name": "python",
   "nbconvert_exporter": "python",
   "pygments_lexer": "ipython3",
   "version": "3.11.6"
  }
 },
 "nbformat": 4,
 "nbformat_minor": 2
}
