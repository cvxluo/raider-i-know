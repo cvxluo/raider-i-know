{
 "cells": [
  {
   "cell_type": "code",
   "execution_count": 3,
   "metadata": {},
   "outputs": [],
   "source": [
    "import json\n",
    "import os\n",
    "import random\n",
    "import time\n",
    "\n",
    "import bson\n",
    "import consts\n",
    "import pymongo\n",
    "from dotenv import load_dotenv\n",
    "from rio_requests import character_run_summaries, get_run_from_id, get_title_range, get_top_runs\n",
    "from schema import Character, Run, RunSummary\n",
    "from tqdm import tqdm\n",
    "\n",
    "load_dotenv()\n",
    "DB_URL = os.getenv('DB_URL')\n",
    "client = pymongo.MongoClient(DB_URL)\n",
    "\n",
    "SEASON = 'season-df-3'\n",
    "REGION = 'us'"
   ]
  },
  {
   "cell_type": "code",
   "execution_count": 10,
   "metadata": {},
   "outputs": [
    {
     "name": "stdout",
     "output_type": "stream",
     "text": [
      "{'keystone_team_id': 276325606, 'season': 'season-df-3', 'status': 'finished', 'dungeon': {'type': 'dungeon', 'id': 9028, 'name': \"Atal'Dazar\", 'short_name': 'AD', 'slug': 'ataldazar', 'expansion_id': 7, 'icon_url': '/images/wow/icons/large/achievement_dungeon_ataldazar.jpg', 'patch': '8.0', 'wowInstanceId': 1763, 'keystone_timer_ms': 1800999, 'num_bosses': 4, 'group_finder_activity_ids': [499, 500, 501, 502, 543]}, 'keystone_run_id': 34293413, 'mythic_level': 34, 'clear_time_ms': 1772218, 'keystone_time_ms': 1800999, 'completed_at': '2024-04-19T22:11:28.000Z', 'num_chests': 1, 'time_remaining_ms': 28781, 'logged_run_id': 13481624, 'videos': [], 'weekly_modifiers': [{'id': 10, 'icon': 'ability_toughness', 'name': 'Fortified', 'slug': 'fortified', 'description': 'Non-boss enemies have 20% more health and inflict up to 30% increased damage.'}, {'id': 3, 'icon': 'spell_shaman_lavasurge', 'name': 'Volcanic', 'slug': 'volcanic', 'description': 'While in combat, enemies periodically cause gouts of flame to erupt beneath the feet of distant players.'}, {'id': 123, 'icon': 'spell_holy_prayerofshadowprotection', 'name': 'Spiteful', 'slug': 'spiteful', 'description': 'Fiends rise from the corpses of non-boss enemies and pursue random players.'}], 'num_modifiers_active': 3, 'faction': 'mixed', 'deleted_at': None, 'keystone_platoon_id': None, 'platoon': None, 'roster': [{'character': {'id': 138629167, 'persona_id': 34875545, 'name': 'Hypeboy', 'class': {'id': 5, 'name': 'Priest', 'slug': 'priest'}, 'race': {'id': 4, 'name': 'Night Elf', 'slug': 'night-elf', 'faction': 'alliance'}, 'faction': 'alliance', 'level': 70, 'spec': {'id': 258, 'name': 'Shadow', 'slug': 'shadow'}, 'path': '/characters/us/area-52/Hypeboy', 'realm': {'id': 264, 'connectedRealmId': 136, 'wowRealmId': 1566, 'wowConnectedRealmId': 3676, 'name': 'Area 52', 'altName': None, 'slug': 'area-52', 'altSlug': 'area-52', 'locale': 'en_US', 'isConnected': False, 'realmType': 'live'}, 'region': {'name': 'United States & Oceania', 'slug': 'us', 'short_name': 'US'}, 'stream': None, 'recruitmentProfiles': []}, 'oldCharacter': None, 'isTransfer': False, 'role': 'dps'}, {'character': {'id': 192259175, 'persona_id': 46564054, 'name': 'Dxaugtwo', 'class': {'id': 13, 'name': 'Evoker', 'slug': 'evoker'}, 'race': {'id': 70, 'name': 'Dracthyr', 'slug': 'dracthyr', 'faction': 'horde'}, 'faction': 'horde', 'level': 70, 'spec': {'id': 1473, 'name': 'Augmentation', 'slug': 'augmentation'}, 'path': '/characters/us/malganis/Dxaugtwo', 'realm': {'id': 396, 'connectedRealmId': 216, 'wowRealmId': 59, 'wowConnectedRealmId': 3684, 'name': \"Mal'Ganis\", 'altName': None, 'slug': 'malganis', 'altSlug': 'malganis', 'locale': 'en_US', 'isConnected': False, 'realmType': 'live'}, 'region': {'name': 'United States & Oceania', 'slug': 'us', 'short_name': 'US'}, 'stream': None, 'recruitmentProfiles': []}, 'oldCharacter': None, 'isTransfer': False, 'role': 'dps'}, {'character': {'id': 196653729, 'persona_id': 68022, 'name': 'Nerfmeta', 'class': {'id': 12, 'name': 'Demon Hunter', 'slug': 'demon-hunter'}, 'race': {'id': 4, 'name': 'Night Elf', 'slug': 'night-elf', 'faction': 'alliance'}, 'faction': 'alliance', 'level': 70, 'spec': {'id': 581, 'name': 'Vengeance', 'slug': 'vengeance'}, 'path': '/characters/us/area-52/Nerfmeta', 'realm': {'id': 264, 'connectedRealmId': 136, 'wowRealmId': 1566, 'wowConnectedRealmId': 3676, 'name': 'Area 52', 'altName': None, 'slug': 'area-52', 'altSlug': 'area-52', 'locale': 'en_US', 'isConnected': False, 'realmType': 'live'}, 'region': {'name': 'United States & Oceania', 'slug': 'us', 'short_name': 'US'}, 'stream': None, 'recruitmentProfiles': []}, 'oldCharacter': None, 'isTransfer': False, 'role': 'tank'}, {'character': {'id': 200557261, 'persona_id': 16661185, 'name': 'Dxmdru', 'class': {'id': 11, 'name': 'Druid', 'slug': 'druid'}, 'race': {'id': 4, 'name': 'Night Elf', 'slug': 'night-elf', 'faction': 'alliance'}, 'faction': 'alliance', 'level': 70, 'spec': {'id': 105, 'name': 'Restoration', 'slug': 'restoration'}, 'path': '/characters/us/area-52/Dxmdru', 'realm': {'id': 264, 'connectedRealmId': 136, 'wowRealmId': 1566, 'wowConnectedRealmId': 3676, 'name': 'Area 52', 'altName': None, 'slug': 'area-52', 'altSlug': 'area-52', 'locale': 'en_US', 'isConnected': False, 'realmType': 'live'}, 'region': {'name': 'United States & Oceania', 'slug': 'us', 'short_name': 'US'}, 'stream': None, 'recruitmentProfiles': []}, 'oldCharacter': None, 'isTransfer': False, 'role': 'healer'}, {'character': {'id': 206458462, 'persona_id': 4088608, 'name': 'Sungjinwoò', 'class': {'id': 8, 'name': 'Mage', 'slug': 'mage'}, 'race': {'id': 3, 'name': 'Dwarf', 'slug': 'dwarf', 'faction': 'alliance'}, 'faction': 'alliance', 'level': 70, 'spec': {'id': 62, 'name': 'Arcane', 'slug': 'arcane'}, 'path': '/characters/us/hyjal/Sungjinwoò', 'realm': {'id': 367, 'connectedRealmId': 205, 'wowRealmId': 6, 'wowConnectedRealmId': 3661, 'name': 'Hyjal', 'altName': None, 'slug': 'hyjal', 'altSlug': 'hyjal', 'locale': 'en_US', 'isConnected': False, 'realmType': 'live'}, 'region': {'name': 'United States & Oceania', 'slug': 'us', 'short_name': 'US'}, 'stream': None, 'recruitmentProfiles': []}, 'oldCharacter': None, 'isTransfer': False, 'role': 'dps'}]}\n"
     ]
    }
   ],
   "source": [
    "example_rankings = get_top_runs(SEASON, REGION, \"atal'dazar\", 'fortified-volcanic-spiteful', 0)['rankings']\n",
    "example_runs = list(map(lambda run: run['run'], example_rankings))\n",
    "print(example_runs[0])"
   ]
  },
  {
   "cell_type": "code",
   "execution_count": null,
   "metadata": {},
   "outputs": [],
   "source": []
  }
 ],
 "metadata": {
  "kernelspec": {
   "display_name": "env",
   "language": "python",
   "name": "python3"
  },
  "language_info": {
   "codemirror_mode": {
    "name": "ipython",
    "version": 3
   },
   "file_extension": ".py",
   "mimetype": "text/x-python",
   "name": "python",
   "nbconvert_exporter": "python",
   "pygments_lexer": "ipython3",
   "version": "3.11.6"
  }
 },
 "nbformat": 4,
 "nbformat_minor": 2
}
