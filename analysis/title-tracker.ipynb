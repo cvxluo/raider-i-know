{
 "cells": [
  {
   "cell_type": "code",
   "execution_count": 32,
   "metadata": {},
   "outputs": [],
   "source": [
    "import json\n",
    "import os\n",
    "import random\n",
    "import time\n",
    "\n",
    "import bson\n",
    "import consts\n",
    "import pymongo\n",
    "from dotenv import load_dotenv\n",
    "from rio_requests import character_run_summaries, get_run_from_id, get_title_range\n",
    "from schema import Character, Run, RunSummary\n",
    "from tqdm import tqdm\n",
    "\n",
    "load_dotenv()\n",
    "DB_URL = os.getenv('DB_URL')\n",
    "client = pymongo.MongoClient(DB_URL)\n",
    "\n",
    "TITLE_SCORE = 3650\n",
    "\n",
    "database_runs = open('data/raideriknow.runs.json', 'r')\n",
    "database_runs = json.load(database_runs)\n",
    "database_runs = [Run.from_json(run) for run in database_runs]\n",
    "database_run_ids = { run.keystone_run_id: run for run in database_runs }\n",
    "\n",
    "database_characters = open('data/raideriknow.characters.json', 'r')\n",
    "database_characters = json.load(database_characters)\n",
    "database_characters = [Character.from_json(character) for character in database_characters]\n",
    "database_characters = sorted(database_characters, key=lambda character: character.name)\n",
    "database_character_ids = { character.id: character for character in database_characters }\n",
    "database_character_oids = { character._id: character for character in database_characters }\n"
   ]
  },
  {
   "cell_type": "code",
   "execution_count": 33,
   "metadata": {},
   "outputs": [
    {
     "name": "stdout",
     "output_type": "stream",
     "text": [
      "Title score: 3651.26 (1443 players)\n"
     ]
    }
   ],
   "source": [
    "# TODO: i could compute all of the ranges (p90, etc.) pretty easily, should definitely consider\n",
    "title_info = get_title_range()['cutoffs']['p999']['all']\n",
    "title_score = title_info['quantileMinValue']\n",
    "num_title_players = title_info['quantilePopulationCount']\n",
    "print(f'Title score: {title_score} ({num_title_players} players)')"
   ]
  },
  {
   "cell_type": "code",
   "execution_count": 41,
   "metadata": {},
   "outputs": [
    {
     "name": "stderr",
     "output_type": "stream",
     "text": [
      "100%|██████████| 260474/260474 [00:00<00:00, 281549.62it/s]\n"
     ]
    },
    {
     "name": "stdout",
     "output_type": "stream",
     "text": [
      "Example character: Vexea (135683693)\n",
      "Overall score: 3742.0\n"
     ]
    },
    {
     "name": "stderr",
     "output_type": "stream",
     "text": [
      "100%|██████████| 84964/84964 [00:02<00:00, 30191.73it/s]\n",
      "100%|██████████| 1383/1383 [00:00<00:00, 4159.69it/s]"
     ]
    },
    {
     "name": "stdout",
     "output_type": "stream",
     "text": [
      "Number of characters in title range: 1383\n",
      "Example character: Aaeldin (60145404)\n",
      "Example title top run id: 25370700\n",
      "{9028: {'Fortified': 30, 'Tyrannical': 30}, 7805: {'Fortified': 31, 'Tyrannical': 31}, 1000010: {'Fortified': 31, 'Tyrannical': 29}, 1000011: {'Fortified': 29, 'Tyrannical': 29}, 7673: {'Fortified': 30, 'Tyrannical': 29}, 7109: {'Fortified': 29, 'Tyrannical': 29}, 4738: {'Fortified': 29, 'Tyrannical': 29}, 9424: {'Fortified': 30, 'Tyrannical': 30}}\n"
     ]
    },
    {
     "name": "stderr",
     "output_type": "stream",
     "text": [
      "\n"
     ]
    }
   ],
   "source": [
    "\n",
    "\"\"\"\n",
    "rough calculation\n",
    "250,000 runs\n",
    "each run has 5 characters\n",
    "1,250,000 character-run operations\n",
    "\"\"\"\n",
    "def precompute_runs_per_character(d_runs) :\n",
    "    runs_per_character = {}\n",
    "    for run in tqdm(d_runs) :\n",
    "        for character_oid in run.roster :\n",
    "            character_id = str(character_oid)\n",
    "            if character_id not in runs_per_character :\n",
    "                runs_per_character[character_id] = []\n",
    "            runs_per_character[character_id].append(run)\n",
    "\n",
    "    return runs_per_character\n",
    "\n",
    "runs_per_char = precompute_runs_per_character(database_runs)\n",
    "\n",
    "\n",
    "def get_runs_with_character(character) :\n",
    "    return runs_per_char[str(character._id)] if str(character._id) in runs_per_char else []\n",
    "\n",
    "def get_runs_with_characters(characters) :\n",
    "    runs = []\n",
    "    for character in characters :\n",
    "        runs += get_runs_with_character(character)\n",
    "    return runs\n",
    "\n",
    "# https://www.reddit.com/r/wow/comments/13vqsbw/an_accurate_formula_for_m_score_calculation_in/\n",
    "def calc_run_score (run) :\n",
    "    # we assume all runs are above 20, so have 3 affixes\n",
    "    # this might need to change for future seasons\n",
    "    # assume 0 timer bonus\n",
    "    return 7 * run.mythic_level + 30\n",
    "\n",
    "class CharTopRuns (object) :\n",
    "    def __init__ (self, char) :\n",
    "        self.char = char\n",
    "        runs = get_runs_with_character(char)\n",
    "        self.top_runs = {\n",
    "            dungeon_id: {\n",
    "                'Tyrannical': None,\n",
    "                'Fortified': None,\n",
    "            }\n",
    "            for dungeon_id in consts.DUNGEON_IDS\n",
    "        }\n",
    "\n",
    "        for run in runs :\n",
    "            dungeon_id = run.dungeon['id']\n",
    "            major_affix = 'Fortified' if 'Fortified' in run.weekly_modifiers else 'Tyrannical'\n",
    "            score = calc_run_score(run)\n",
    "\n",
    "            if self.top_runs[dungeon_id][major_affix] is None or score > calc_run_score(self.top_runs[dungeon_id][major_affix]) :\n",
    "                self.top_runs[dungeon_id][major_affix] = run\n",
    "    \n",
    "\n",
    "    def overall_score (self) :\n",
    "        score = 0\n",
    "\n",
    "        for dungeon_id in consts.DUNGEON_IDS :\n",
    "            score_1 = 0\n",
    "            score_2 = 0\n",
    "            if self.top_runs[dungeon_id]['Fortified'] is not None :\n",
    "                score_1 = calc_run_score(self.top_runs[dungeon_id]['Fortified'])\n",
    "            \n",
    "            if self.top_runs[dungeon_id]['Tyrannical'] is not None :\n",
    "                score_2 = calc_run_score(self.top_runs[dungeon_id]['Tyrannical'])\n",
    "\n",
    "            dung_score = 1.5 * max(score_1, score_2) + 0.5 * min(score_1, score_2)\n",
    "\n",
    "            score += dung_score\n",
    "            \n",
    "        return score\n",
    "    \n",
    "\n",
    "    def top_runs (self) :\n",
    "        return self.top_runs\n",
    "    \n",
    "    def top_runs_flattened (self) :\n",
    "        return list(filter(lambda run: run, [run for dungeon in self.top_runs.values() for run in dungeon.values()]))\n",
    "    \n",
    "\n",
    "    def top_run_levels (self) :\n",
    "        levels = {\n",
    "            dungeon_id: {\n",
    "                'Fortified': None,\n",
    "                'Tyrannical': None,\n",
    "            }\n",
    "            for dungeon_id in consts.DUNGEON_IDS\n",
    "        }\n",
    "        for dungeon_id in consts.DUNGEON_IDS :\n",
    "            levels[dungeon_id]['Fortified'] = self.top_runs[dungeon_id]['Fortified'].mythic_level if self.top_runs[dungeon_id]['Fortified'] else 0\n",
    "            levels[dungeon_id]['Tyrannical'] = self.top_runs[dungeon_id]['Tyrannical'].mythic_level if self.top_runs[dungeon_id]['Tyrannical'] else 0   \n",
    "             \n",
    "        return levels\n",
    "\n",
    "ex_char_name = \"Vexea\"\n",
    "example_character = list(filter(lambda char: char.name == ex_char_name, database_characters))[0]\n",
    "ex_char_top_runs = CharTopRuns(example_character)\n",
    "print(f'Example character: {example_character.name} ({example_character.id})')\n",
    "print(f'Overall score: {ex_char_top_runs.overall_score()}')\n",
    "# not completely accurate, but the data was taken a while ago\n",
    "\n",
    "\n",
    "\n",
    "def get_title_range_chars (title_score) :\n",
    "    title_range_chars = []\n",
    "    for character in tqdm(database_characters) :\n",
    "        char_top_runs = CharTopRuns(character)\n",
    "        if char_top_runs.overall_score() >= title_score :\n",
    "            title_range_chars.append(character)\n",
    "    return title_range_chars\n",
    "\n",
    "\n",
    "def get_title_top_runs (title_range_chars) :\n",
    "    title_top_runs = []\n",
    "    for character in tqdm(title_range_chars) :\n",
    "        char_top_runs = CharTopRuns(character)\n",
    "        title_top_runs.append(char_top_runs)\n",
    "    return title_top_runs\n",
    "\n",
    "title_range_chars = get_title_range_chars(title_score)\n",
    "title_top_runs = get_title_top_runs(title_range_chars)\n",
    "print(f'Number of characters in title range: {len(title_range_chars)}')\n",
    "print(f'Example character: {title_range_chars[0].name} ({title_range_chars[0].id})')\n",
    "print(\"Example title top run id: \" + str(title_top_runs[0].top_runs[9028]['Fortified'].to_json()['keystone_run_id']))\n",
    "print(title_top_runs[0].top_run_levels())"
   ]
  },
  {
   "cell_type": "markdown",
   "metadata": {},
   "source": [
    "1383 characters seen in database, 1443 actual - about 5% error"
   ]
  },
  {
   "cell_type": "code",
   "execution_count": 42,
   "metadata": {},
   "outputs": [
    {
     "name": "stdout",
     "output_type": "stream",
     "text": [
      "{9028: {'Fortified': {30: 559, 29: 648, 31: 111, 28: 44, 32: 19, 27: 2}, 'Tyrannical': {30: 361, 29: 796, 28: 148, 31: 56, 26: 1, 32: 15, 27: 5, 25: 1}}, 7805: {'Fortified': {31: 115, 30: 532, 29: 697, 28: 24, 32: 13, 27: 2}, 'Tyrannical': {31: 59, 29: 819, 30: 404, 28: 93, 32: 6, 27: 2}}, 1000010: {'Fortified': {31: 57, 29: 815, 30: 457, 28: 42, 32: 11, 0: 1}, 'Tyrannical': {29: 729, 28: 462, 30: 142, 26: 5, 31: 24, 27: 21}}, 1000011: {'Fortified': {29: 446, 28: 779, 26: 7, 30: 96, 27: 45, 31: 10}, 'Tyrannical': {29: 340, 28: 809, 27: 173, 30: 46, 31: 10, 26: 5}}, 7673: {'Fortified': {30: 177, 29: 827, 28: 320, 27: 16, 31: 41, 26: 2}, 'Tyrannical': {29: 465, 28: 786, 27: 72, 30: 58, 26: 1, 25: 1}}, 7109: {'Fortified': {29: 226, 28: 996, 26: 7, 27: 113, 30: 36, 25: 2, 24: 3}, 'Tyrannical': {29: 55, 28: 475, 27: 767, 26: 77, 0: 1, 25: 8}}, 4738: {'Fortified': {29: 176, 28: 902, 27: 281, 26: 12, 25: 1, 30: 10, 24: 1}, 'Tyrannical': {29: 196, 27: 181, 28: 968, 26: 8, 30: 27, 25: 3}}, 9424: {'Fortified': {30: 322, 29: 873, 28: 123, 31: 51, 32: 13, 26: 1}, 'Tyrannical': {30: 164, 28: 487, 29: 676, 27: 32, 31: 17, 26: 5, 25: 2}}}\n"
     ]
    }
   ],
   "source": [
    "def count_top_run_levels(title_top_runs) :\n",
    "    level_counts = {\n",
    "        dungeon_id: {\n",
    "            'Fortified': {},\n",
    "            'Tyrannical': {},\n",
    "        }\n",
    "        for dungeon_id in consts.DUNGEON_IDS\n",
    "    }\n",
    "\n",
    "    for char_top_runs in title_top_runs :\n",
    "        levels = char_top_runs.top_run_levels()\n",
    "        for dungeon_id in consts.DUNGEON_IDS :\n",
    "            for affix in ['Fortified', 'Tyrannical'] :\n",
    "                level = levels[dungeon_id][affix]\n",
    "                if level not in level_counts[dungeon_id][affix] :\n",
    "                    level_counts[dungeon_id][affix][level] = 0\n",
    "                level_counts[dungeon_id][affix][level] += 1\n",
    "\n",
    "    return level_counts\n",
    "\n",
    "level_counts = count_top_run_levels(title_top_runs)\n",
    "print(level_counts)"
   ]
  },
  {
   "cell_type": "code",
   "execution_count": null,
   "metadata": {},
   "outputs": [],
   "source": []
  }
 ],
 "metadata": {
  "kernelspec": {
   "display_name": "env",
   "language": "python",
   "name": "python3"
  },
  "language_info": {
   "codemirror_mode": {
    "name": "ipython",
    "version": 3
   },
   "file_extension": ".py",
   "mimetype": "text/x-python",
   "name": "python",
   "nbconvert_exporter": "python",
   "pygments_lexer": "ipython3",
   "version": "3.11.6"
  }
 },
 "nbformat": 4,
 "nbformat_minor": 2
}
